{
 "cells": [
  {
   "cell_type": "markdown",
   "id": "55bd4afe",
   "metadata": {},
   "source": [
    "This project is based on a tutorial to train a neural network to predict DNA binding sites. \n",
    "When protein molecules bind to DNA at these sites, they activate or repress gene expression, which turns \"on\" or \"off\" protein production and increases or decreases the amount of proteins made. \n",
    "\n",
    "Sources: \n",
    "https://colab.research.google.com/drive/17E4h5aAOioh5DiTo7MZg4hpL6Z_0FyWr#scrollTo=QABdxctitugX"
   ]
  },
  {
   "cell_type": "code",
   "execution_count": null,
   "id": "f8451340",
   "metadata": {},
   "outputs": [],
   "source": []
  }
 ],
 "metadata": {
  "kernelspec": {
   "display_name": "Python 3 (ipykernel)",
   "language": "python",
   "name": "python3"
  },
  "language_info": {
   "codemirror_mode": {
    "name": "ipython",
    "version": 3
   },
   "file_extension": ".py",
   "mimetype": "text/x-python",
   "name": "python",
   "nbconvert_exporter": "python",
   "pygments_lexer": "ipython3",
   "version": "3.11.1"
  }
 },
 "nbformat": 4,
 "nbformat_minor": 5
}
