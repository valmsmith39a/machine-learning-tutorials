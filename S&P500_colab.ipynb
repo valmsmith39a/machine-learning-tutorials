{
  "nbformat": 4,
  "nbformat_minor": 0,
  "metadata": {
    "colab": {
      "provenance": []
    },
    "kernelspec": {
      "name": "python3",
      "display_name": "Python 3"
    },
    "language_info": {
      "name": "python"
    }
  },
  "cells": [
    {
      "cell_type": "markdown",
      "source": [
        "Train neural network to predict value of S&P500 (Standard and Poor's 500) stock index."
      ],
      "metadata": {
        "id": "ffy93MjgrSXX"
      }
    },
    {
      "cell_type": "markdown",
      "source": [
        "Import modules. May need to install some modules not accessible by default on Colab.\n",
        "  1.  Ex yahoo finance Python module \n",
        "    >!pip3 install yfinance\n",
        "\n",
        "Note: Can also download price history of S&P500 from Yahoo Finance.\n",
        "Select 5 year time period, Historical Prices and Daily frequency.\n",
        "https://finance.yahoo.com/quote/SPY/history?p=SPY\n",
        "\n",
        "\n"
      ],
      "metadata": {
        "id": "ucigwHlrrnL8"
      }
    },
    {
      "cell_type": "code",
      "execution_count": 13,
      "metadata": {
        "id": "S8HfwdYfitYq"
      },
      "outputs": [],
      "source": [
        "# Importing Libraries\n",
        "import numpy as np\n",
        "import matplotlib.pyplot as plt\n",
        "import pandas as pd\n",
        "from datetime import timedelta\n",
        "from sklearn.preprocessing import RobustScaler\n",
        "plt.style.use(\"bmh\")\n",
        "\n",
        "# Neural Network library\n",
        "from keras.models import Sequential\n",
        "from keras.layers import LSTM, Dense, Dropout\n",
        "\n",
        "import yfinance as yf\n"
      ]
    },
    {
      "cell_type": "code",
      "source": [
        "def get_sp500_data():\n",
        "  # Get the S&P500 index\n",
        "  sp500 = yf.Ticker(\"^GSPC\")\n",
        "\n",
        "  # Get the historical data since December 30, 1927\n",
        "  data = sp500.history(period=\"max\")\n",
        "\n",
        "  return data"
      ],
      "metadata": {
        "id": "_bDgTGiGqYsh"
      },
      "execution_count": 16,
      "outputs": []
    },
    {
      "cell_type": "code",
      "source": [
        "if __name__ == \"__main__\":\n",
        "    sp500_data = get_sp500_data()\n",
        "    print(sp500_data)"
      ],
      "metadata": {
        "colab": {
          "base_uri": "https://localhost:8080/"
        },
        "id": "lNFQ_w51tNNq",
        "outputId": "91026d7e-7d43-4820-a949-147cc83c6547"
      },
      "execution_count": 17,
      "outputs": [
        {
          "output_type": "stream",
          "name": "stdout",
          "text": [
            "                                  Open         High          Low        Close  \\\n",
            "Date                                                                            \n",
            "1927-12-30 00:00:00-05:00    17.660000    17.660000    17.660000    17.660000   \n",
            "1928-01-03 00:00:00-05:00    17.760000    17.760000    17.760000    17.760000   \n",
            "1928-01-04 00:00:00-05:00    17.719999    17.719999    17.719999    17.719999   \n",
            "1928-01-05 00:00:00-05:00    17.549999    17.549999    17.549999    17.549999   \n",
            "1928-01-06 00:00:00-05:00    17.660000    17.660000    17.660000    17.660000   \n",
            "...                                ...          ...          ...          ...   \n",
            "2022-12-23 00:00:00-05:00  3815.110107  3845.800049  3797.010010  3844.820068   \n",
            "2022-12-27 00:00:00-05:00  3843.340088  3846.649902  3813.219971  3829.250000   \n",
            "2022-12-28 00:00:00-05:00  3829.560059  3848.320068  3780.780029  3783.219971   \n",
            "2022-12-29 00:00:00-05:00  3805.449951  3858.189941  3805.449951  3849.280029   \n",
            "2022-12-30 00:00:00-05:00  3829.060059  3839.850098  3800.340088  3839.500000   \n",
            "\n",
            "                               Volume  Dividends  Stock Splits  \n",
            "Date                                                            \n",
            "1927-12-30 00:00:00-05:00           0        0.0           0.0  \n",
            "1928-01-03 00:00:00-05:00           0        0.0           0.0  \n",
            "1928-01-04 00:00:00-05:00           0        0.0           0.0  \n",
            "1928-01-05 00:00:00-05:00           0        0.0           0.0  \n",
            "1928-01-06 00:00:00-05:00           0        0.0           0.0  \n",
            "...                               ...        ...           ...  \n",
            "2022-12-23 00:00:00-05:00  2819280000        0.0           0.0  \n",
            "2022-12-27 00:00:00-05:00  3030300000        0.0           0.0  \n",
            "2022-12-28 00:00:00-05:00  3083520000        0.0           0.0  \n",
            "2022-12-29 00:00:00-05:00  3003680000        0.0           0.0  \n",
            "2022-12-30 00:00:00-05:00  2979870000        0.0           0.0  \n",
            "\n",
            "[23865 rows x 7 columns]\n"
          ]
        }
      ]
    }
  ]
}